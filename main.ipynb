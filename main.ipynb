{
 "cells": [
  {
   "cell_type": "code",
   "metadata": {
    "ExecuteTime": {
     "end_time": "2025-04-03T03:14:10.970257Z",
     "start_time": "2025-04-03T03:14:10.964339Z"
    }
   },
   "source": [
    "import pandas as pd\n",
    "import numpy as np\n",
    "from sklearn import model_selection"
   ],
   "outputs": [],
   "execution_count": 4
  },
  {
   "cell_type": "code",
   "metadata": {
    "ExecuteTime": {
     "end_time": "2025-04-03T03:14:10.994274Z",
     "start_time": "2025-04-03T03:14:10.988432Z"
    }
   },
   "source": [
    "# Used To Format Questions\n",
    "class Question:\n",
    "    def __init__(self, column, value, root=pd.DataFrame, information_gain=float, truthTable=pd.DataFrame, falseTable=pd.DataFrame, truthQuestion=None, falseQuestion=None):\n",
    "        self.column = column\n",
    "        self.value = value\n",
    "\n",
    "        self.depth = 0\n",
    "        self.information_gain = information_gain\n",
    "        \n",
    "        self.root = root\n",
    "        self.truthTable = truthTable\n",
    "        self.falseTable = falseTable\n",
    "\n",
    "        self.truthQuestion = truthQuestion\n",
    "        self.falseQuestion = falseQuestion\n",
    "    \n",
    "    # Checks if x makes question True or False *used only in prediction*\n",
    "    def result(self, x=pd.DataFrame):\n",
    "\n",
    "        if (isinstance(self.value, (int, np.integer, np.floating))):\n",
    "            if x[x.columns[self.column]][0] >= self.value:\n",
    "                return self.truthQuestion, self.truthTable[\"Group\"]\n",
    "            else:\n",
    "                return self.falseQuestion, self.falseTable[\"Group\"]\n",
    "\n",
    "        else:\n",
    "            if x[x.columns[self.column]][0] == self.value:\n",
    "                return self.truthQuestion, self.truthTable[\"Group\"]\n",
    "            else:\n",
    "                return self.falseQuestion, self.falseTable[\"Group\"]\n"
   ],
   "outputs": [],
   "execution_count": 5
  },
  {
   "cell_type": "code",
   "metadata": {
    "ExecuteTime": {
     "end_time": "2025-04-03T03:14:11.034196Z",
     "start_time": "2025-04-03T03:14:11.019823Z"
    }
   },
   "source": [
    "class Tree:\n",
    "    def __init__(self, df):\n",
    "        self.root = df\n",
    "        self.questionTree = []\n",
    "        self.question = None\n",
    "\n",
    "        self.max_depth = 10\n",
    "\n",
    "        self.grow_tree(self.root)\n",
    "    \n",
    "    # Generates the best question to ask at every node\n",
    "    def grow_tree(self, root):\n",
    "        best_question = self.find_best_question(root)\n",
    "\n",
    "\n",
    "        if best_question != -1:\n",
    "            self.questionTree.append(best_question)\n",
    "\n",
    "            best_question.truthQuestion = self.grow_tree(best_question.truthTable)\n",
    "\n",
    "            best_question.falseQuestion = self.grow_tree(best_question.falseTable) \n",
    "        \n",
    "            return self.questionTree.index(best_question)\n",
    "        self.question = self.questionTree[0] \n",
    "\n",
    "    # Splits a root based on a question into True Vales, and False Values\n",
    "\n",
    "    def partition(self, rows=pd.DataFrame, question=Question):\n",
    "\n",
    "        if (isinstance(question.value, (int, np.integer, np.floating))) == False:\n",
    "            true_values = rows[rows[rows.columns[question.column]] == question.value]    \n",
    "            false_values = rows[rows[rows.columns[question.column]] != question.value]\n",
    "        else:\n",
    "            true_values = rows[rows[rows.columns[question.column]] >= question.value]    \n",
    "            false_values = rows[rows[rows.columns[question.column]] < question.value]\n",
    "\n",
    "        return true_values, false_values\n",
    "\n",
    "    # Calculate Impurity\n",
    "    def impurity(self, rows=pd.DataFrame):\n",
    "        columnLen = len(rows[\"Group\"])\n",
    "        impurity = 1\n",
    "        for i in rows[\"Group\"].unique():\n",
    "            impurity -= ((rows[\"Group\"].value_counts()[i]) / columnLen)**2\n",
    "        return impurity\n",
    "\n",
    "    # Check how good a question is by comparing it to the previous node\n",
    "    def information_gain(self, rootTable=pd.DataFrame, trueTable=pd.DataFrame, falseTable=pd.DataFrame, question=Question):\n",
    "        rootImpurity = self.impurity(rootTable)\n",
    "\n",
    "        trueImpurity = self.impurity(trueTable)\n",
    "        falseImpurity = self.impurity(falseTable)\n",
    "\n",
    "        AvgImpurity = (trueImpurity * (trueTable.shape[0] / rootTable.shape[0])) + (falseImpurity * (falseTable.shape[0] / rootTable.shape[0])) \n",
    "        AvgImpurity /= 2\n",
    "\n",
    "        return rootImpurity - AvgImpurity\n",
    "\n",
    "    # Combines Last 3 to find the best question at a single node\n",
    "    def find_best_question(self, root=pd.DataFrame):\n",
    "        best_question = -1\n",
    "        best_information_gain = -1\n",
    "        pdroot = root\n",
    "        for column in range(0, len(root.drop(columns=[\"Group\"]).columns)):\n",
    "            for value in root[root.columns[column]].unique():\n",
    "                question = Question(column, value, root=pdroot)\n",
    "\n",
    "                question.truthTable, question.falseTable = self.partition(root, question)\n",
    "\n",
    "                if question.truthTable.shape[0] == 0 or question.falseTable.shape[0] == 0:\n",
    "                    continue\n",
    "\n",
    "                question.information_gain = self.information_gain(root, question.truthTable, question.falseTable, question)\n",
    "                \n",
    "                if best_information_gain == None or question.information_gain > best_information_gain:\n",
    "                    # print(\"Is \", question.column, \" equal too\", question.value)\n",
    "                    best_information_gain = question.information_gain\n",
    "                    best_question = question\n",
    "\n",
    "        if len(self.questionTree) != 0:\n",
    "            if type(best_question) == Question:\n",
    "                    for i in self.questionTree:\n",
    "                        if i.truthTable.equals(root) or i.falseTable.equals(root):\n",
    "                            best_question.depth = i.depth + 1\n",
    "                            if best_question.depth > self.max_depth:\n",
    "                                print(\"THAT RIGHT THERE WAS TOO MUCH, GET IT GONNEN\")\n",
    "                                return -1\n",
    "            else:\n",
    "                return -1\n",
    "\n",
    "        if best_information_gain == 0:\n",
    "            return -1\n",
    "        return best_question\n",
    "    \n",
    "    # Just to help visualize\n",
    "    def tree_ToString(self):\n",
    "        for pos, q in enumerate(self.questionTree):\n",
    "            print(\"Question #\",pos, \": \", self.root.columns[q.column], \" is \", q.value, \" ----> Question #\", q.truthQuestion, \"or Question #\", q.falseQuestion)\n",
    "    \n",
    "    # Uses the treeQuestions list to predict a x row\n",
    "    def predict(self, x):\n",
    "        global prediction\n",
    "        # print(self.questionTree.index(self.question))\n",
    "        if self.question.result(x)[0] != None:\n",
    "               self.question = self.questionTree[self.question.result(x)[0]]\n",
    "               self.predict(x)\n",
    "        else:\n",
    "            prediction = self.question.result(x)[1].value_counts().sort_values(ascending=False).index[0]\n",
    "        self.question = self.questionTree[0]\n",
    "             "
   ],
   "outputs": [],
   "execution_count": 6
  },
  {
   "cell_type": "code",
   "metadata": {
    "ExecuteTime": {
     "end_time": "2025-04-03T03:14:11.054515Z",
     "start_time": "2025-04-03T03:14:11.050796Z"
    }
   },
   "source": [],
   "outputs": [],
   "execution_count": null
  },
  {
   "cell_type": "code",
   "metadata": {
    "ExecuteTime": {
     "end_time": "2025-04-03T03:14:11.108716Z",
     "start_time": "2025-04-03T03:14:11.069923Z"
    }
   },
   "source": [
    "df = pd.read_csv(\"alzheimer.csv\")"
   ],
   "outputs": [],
   "execution_count": 7
  },
  {
   "cell_type": "code",
   "metadata": {
    "ExecuteTime": {
     "end_time": "2025-04-03T03:14:11.198227Z",
     "start_time": "2025-04-03T03:14:11.165075Z"
    }
   },
   "source": [
    "df[\"M/F\"].value_counts().sort_values(ascending=False).index[0]"
   ],
   "outputs": [
    {
     "data": {
      "text/plain": [
       "'F'"
      ]
     },
     "execution_count": 8,
     "metadata": {},
     "output_type": "execute_result"
    }
   ],
   "execution_count": 8
  },
  {
   "cell_type": "code",
   "metadata": {
    "ExecuteTime": {
     "end_time": "2025-04-03T03:14:11.239188Z",
     "start_time": "2025-04-03T03:14:11.224820Z"
    }
   },
   "source": [
    "df.head(5)"
   ],
   "outputs": [
    {
     "data": {
      "text/plain": [
       "         Group M/F  Age  EDUC  SES  MMSE  CDR  eTIV   nWBV    ASF\n",
       "0  Nondemented   M   87    14  2.0  27.0  0.0  1987  0.696  0.883\n",
       "1  Nondemented   M   88    14  2.0  30.0  0.0  2004  0.681  0.876\n",
       "2     Demented   M   75    12  NaN  23.0  0.5  1678  0.736  1.046\n",
       "3     Demented   M   76    12  NaN  28.0  0.5  1738  0.713  1.010\n",
       "4     Demented   M   80    12  NaN  22.0  0.5  1698  0.701  1.034"
      ],
      "text/html": [
       "<div>\n",
       "<style scoped>\n",
       "    .dataframe tbody tr th:only-of-type {\n",
       "        vertical-align: middle;\n",
       "    }\n",
       "\n",
       "    .dataframe tbody tr th {\n",
       "        vertical-align: top;\n",
       "    }\n",
       "\n",
       "    .dataframe thead th {\n",
       "        text-align: right;\n",
       "    }\n",
       "</style>\n",
       "<table border=\"1\" class=\"dataframe\">\n",
       "  <thead>\n",
       "    <tr style=\"text-align: right;\">\n",
       "      <th></th>\n",
       "      <th>Group</th>\n",
       "      <th>M/F</th>\n",
       "      <th>Age</th>\n",
       "      <th>EDUC</th>\n",
       "      <th>SES</th>\n",
       "      <th>MMSE</th>\n",
       "      <th>CDR</th>\n",
       "      <th>eTIV</th>\n",
       "      <th>nWBV</th>\n",
       "      <th>ASF</th>\n",
       "    </tr>\n",
       "  </thead>\n",
       "  <tbody>\n",
       "    <tr>\n",
       "      <th>0</th>\n",
       "      <td>Nondemented</td>\n",
       "      <td>M</td>\n",
       "      <td>87</td>\n",
       "      <td>14</td>\n",
       "      <td>2.0</td>\n",
       "      <td>27.0</td>\n",
       "      <td>0.0</td>\n",
       "      <td>1987</td>\n",
       "      <td>0.696</td>\n",
       "      <td>0.883</td>\n",
       "    </tr>\n",
       "    <tr>\n",
       "      <th>1</th>\n",
       "      <td>Nondemented</td>\n",
       "      <td>M</td>\n",
       "      <td>88</td>\n",
       "      <td>14</td>\n",
       "      <td>2.0</td>\n",
       "      <td>30.0</td>\n",
       "      <td>0.0</td>\n",
       "      <td>2004</td>\n",
       "      <td>0.681</td>\n",
       "      <td>0.876</td>\n",
       "    </tr>\n",
       "    <tr>\n",
       "      <th>2</th>\n",
       "      <td>Demented</td>\n",
       "      <td>M</td>\n",
       "      <td>75</td>\n",
       "      <td>12</td>\n",
       "      <td>NaN</td>\n",
       "      <td>23.0</td>\n",
       "      <td>0.5</td>\n",
       "      <td>1678</td>\n",
       "      <td>0.736</td>\n",
       "      <td>1.046</td>\n",
       "    </tr>\n",
       "    <tr>\n",
       "      <th>3</th>\n",
       "      <td>Demented</td>\n",
       "      <td>M</td>\n",
       "      <td>76</td>\n",
       "      <td>12</td>\n",
       "      <td>NaN</td>\n",
       "      <td>28.0</td>\n",
       "      <td>0.5</td>\n",
       "      <td>1738</td>\n",
       "      <td>0.713</td>\n",
       "      <td>1.010</td>\n",
       "    </tr>\n",
       "    <tr>\n",
       "      <th>4</th>\n",
       "      <td>Demented</td>\n",
       "      <td>M</td>\n",
       "      <td>80</td>\n",
       "      <td>12</td>\n",
       "      <td>NaN</td>\n",
       "      <td>22.0</td>\n",
       "      <td>0.5</td>\n",
       "      <td>1698</td>\n",
       "      <td>0.701</td>\n",
       "      <td>1.034</td>\n",
       "    </tr>\n",
       "  </tbody>\n",
       "</table>\n",
       "</div>"
      ]
     },
     "execution_count": 9,
     "metadata": {},
     "output_type": "execute_result"
    }
   ],
   "execution_count": 9
  },
  {
   "cell_type": "code",
   "metadata": {
    "ExecuteTime": {
     "end_time": "2025-04-03T03:14:11.277081Z",
     "start_time": "2025-04-03T03:14:11.272807Z"
    }
   },
   "source": [
    "# CLEANING"
   ],
   "outputs": [],
   "execution_count": 10
  },
  {
   "cell_type": "code",
   "metadata": {
    "ExecuteTime": {
     "end_time": "2025-04-03T03:14:11.381129Z",
     "start_time": "2025-04-03T03:14:11.357608Z"
    }
   },
   "source": [
    "# remove nan\n",
    "df = df[df[\"SES\"].isin([x for x in range(0, 6)])]"
   ],
   "outputs": [],
   "execution_count": 11
  },
  {
   "cell_type": "code",
   "metadata": {
    "ExecuteTime": {
     "end_time": "2025-04-03T03:14:11.441225Z",
     "start_time": "2025-04-03T03:14:11.433779Z"
    }
   },
   "source": [
    "# Changes Male and Female to ones and zeros (unnecessary but i did it)\n",
    "df[\"M/F\"].replace(\"M\", 0, inplace=True)\n",
    "df[\"M/F\"].replace(\"F\", 1, inplace=True)"
   ],
   "outputs": [
    {
     "name": "stderr",
     "output_type": "stream",
     "text": [
      "C:\\Users\\kb148\\AppData\\Local\\Temp\\ipykernel_6172\\3347073460.py:2: FutureWarning: A value is trying to be set on a copy of a DataFrame or Series through chained assignment using an inplace method.\n",
      "The behavior will change in pandas 3.0. This inplace method will never work because the intermediate object on which we are setting values always behaves as a copy.\n",
      "\n",
      "For example, when doing 'df[col].method(value, inplace=True)', try using 'df.method({col: value}, inplace=True)' or df[col] = df[col].method(value) instead, to perform the operation inplace on the original object.\n",
      "\n",
      "\n",
      "  df[\"M/F\"].replace(\"M\", 0, inplace=True)\n",
      "C:\\Users\\kb148\\AppData\\Local\\Temp\\ipykernel_6172\\3347073460.py:3: FutureWarning: A value is trying to be set on a copy of a DataFrame or Series through chained assignment using an inplace method.\n",
      "The behavior will change in pandas 3.0. This inplace method will never work because the intermediate object on which we are setting values always behaves as a copy.\n",
      "\n",
      "For example, when doing 'df[col].method(value, inplace=True)', try using 'df.method({col: value}, inplace=True)' or df[col] = df[col].method(value) instead, to perform the operation inplace on the original object.\n",
      "\n",
      "\n",
      "  df[\"M/F\"].replace(\"F\", 1, inplace=True)\n",
      "C:\\Users\\kb148\\AppData\\Local\\Temp\\ipykernel_6172\\3347073460.py:3: FutureWarning: Downcasting behavior in `replace` is deprecated and will be removed in a future version. To retain the old behavior, explicitly call `result.infer_objects(copy=False)`. To opt-in to the future behavior, set `pd.set_option('future.no_silent_downcasting', True)`\n",
      "  df[\"M/F\"].replace(\"F\", 1, inplace=True)\n"
     ]
    }
   ],
   "execution_count": 12
  },
  {
   "cell_type": "code",
   "metadata": {
    "ExecuteTime": {
     "end_time": "2025-04-03T03:14:11.611304Z",
     "start_time": "2025-04-03T03:14:11.606010Z"
    }
   },
   "source": [
    "# Basically, theres too much nonDemented so we split it...\n",
    "\n",
    "demented = df[df[\"Group\"] == \"Demented\"]\n",
    "nonDemented = df[df[\"Group\"] == \"Nondemented\"]\n",
    "\n",
    "demented.reset_index(inplace=True, drop=True)\n",
    "nonDemented.reset_index(inplace=True, drop=True)"
   ],
   "outputs": [],
   "execution_count": 13
  },
  {
   "cell_type": "code",
   "metadata": {
    "ExecuteTime": {
     "end_time": "2025-04-03T03:14:11.701782Z",
     "start_time": "2025-04-03T03:14:11.695919Z"
    }
   },
   "source": [
    "difference = nonDemented.shape[0] - demented.shape[0]\n",
    "difference"
   ],
   "outputs": [
    {
     "data": {
      "text/plain": [
       "63"
      ]
     },
     "execution_count": 14,
     "metadata": {},
     "output_type": "execute_result"
    }
   ],
   "execution_count": 14
  },
  {
   "cell_type": "code",
   "metadata": {
    "ExecuteTime": {
     "end_time": "2025-04-03T03:14:11.792217Z",
     "start_time": "2025-04-03T03:14:11.786904Z"
    }
   },
   "source": [
    "# ... Then splice demented to make it match demented\n",
    "nonDemented = nonDemented[nonDemented.index.isin([x for x in range(0, nonDemented.shape[0] - difference)])]"
   ],
   "outputs": [],
   "execution_count": 15
  },
  {
   "cell_type": "code",
   "metadata": {
    "ExecuteTime": {
     "end_time": "2025-04-03T03:14:11.852445Z",
     "start_time": "2025-04-03T03:14:11.847149Z"
    }
   },
   "source": [
    "# Represents demented and nondemented ans 1, and 0 \n",
    "demented.replace(\"Demented\", 1, inplace=True)\n",
    "nonDemented.replace(\"Nondemented\", 0, inplace=True)"
   ],
   "outputs": [
    {
     "name": "stderr",
     "output_type": "stream",
     "text": [
      "C:\\Users\\kb148\\AppData\\Local\\Temp\\ipykernel_6172\\2428998976.py:2: FutureWarning: Downcasting behavior in `replace` is deprecated and will be removed in a future version. To retain the old behavior, explicitly call `result.infer_objects(copy=False)`. To opt-in to the future behavior, set `pd.set_option('future.no_silent_downcasting', True)`\n",
      "  demented.replace(\"Demented\", 1, inplace=True)\n",
      "C:\\Users\\kb148\\AppData\\Local\\Temp\\ipykernel_6172\\2428998976.py:2: SettingWithCopyWarning: \n",
      "A value is trying to be set on a copy of a slice from a DataFrame\n",
      "\n",
      "See the caveats in the documentation: https://pandas.pydata.org/pandas-docs/stable/user_guide/indexing.html#returning-a-view-versus-a-copy\n",
      "  demented.replace(\"Demented\", 1, inplace=True)\n",
      "C:\\Users\\kb148\\AppData\\Local\\Temp\\ipykernel_6172\\2428998976.py:3: FutureWarning: Downcasting behavior in `replace` is deprecated and will be removed in a future version. To retain the old behavior, explicitly call `result.infer_objects(copy=False)`. To opt-in to the future behavior, set `pd.set_option('future.no_silent_downcasting', True)`\n",
      "  nonDemented.replace(\"Nondemented\", 0, inplace=True)\n"
     ]
    }
   ],
   "execution_count": 16
  },
  {
   "cell_type": "code",
   "metadata": {
    "ExecuteTime": {
     "end_time": "2025-04-03T03:14:11.895019Z",
     "start_time": "2025-04-03T03:14:11.890769Z"
    }
   },
   "source": [
    "# Rejoins the split\n",
    "df = pd.concat([demented, nonDemented], axis=0)"
   ],
   "outputs": [],
   "execution_count": 17
  },
  {
   "cell_type": "code",
   "metadata": {
    "ExecuteTime": {
     "end_time": "2025-04-03T03:14:11.938674Z",
     "start_time": "2025-04-03T03:14:11.931745Z"
    }
   },
   "source": [
    "# Cleanup\n",
    "df.reset_index(inplace=True)\n",
    "df.drop(columns=[\"index\"], inplace=True)"
   ],
   "outputs": [],
   "execution_count": 18
  },
  {
   "cell_type": "code",
   "metadata": {
    "ExecuteTime": {
     "end_time": "2025-04-03T03:14:11.972248Z",
     "start_time": "2025-04-03T03:14:11.966921Z"
    }
   },
   "source": [
    "# Including CDR makes the bot perfect (cuz it becomes obvious), so we dont use it\n",
    "df.drop(columns=[\"CDR\"], inplace=True)"
   ],
   "outputs": [],
   "execution_count": 19
  },
  {
   "cell_type": "code",
   "metadata": {
    "ExecuteTime": {
     "end_time": "2025-04-03T03:14:12.017963Z",
     "start_time": "2025-04-03T03:14:12.013726Z"
    }
   },
   "source": [
    "# MAKING TRAINING DATA"
   ],
   "outputs": [],
   "execution_count": 20
  },
  {
   "cell_type": "code",
   "metadata": {
    "ExecuteTime": {
     "end_time": "2025-04-03T03:14:12.044689Z",
     "start_time": "2025-04-03T03:14:12.038317Z"
    }
   },
   "source": [
    "# features are the things we feed to the bot\n",
    "feature = df.drop(columns=[\"Group\"])\n",
    "\n",
    "# classifiers are the answers\n",
    "classifier = df[\"Group\"]"
   ],
   "outputs": [],
   "execution_count": 21
  },
  {
   "cell_type": "code",
   "metadata": {
    "ExecuteTime": {
     "end_time": "2025-04-03T03:14:12.071871Z",
     "start_time": "2025-04-03T03:14:12.066027Z"
    }
   },
   "source": [
    "# Separates the data into training data (given to bot with answers), and testing data (given to bot without answers to test accuracy)\n",
    "x_train, x_test, y_train, y_test = model_selection.train_test_split(feature, classifier, test_size=0.2)"
   ],
   "outputs": [],
   "execution_count": 22
  },
  {
   "cell_type": "code",
   "metadata": {
    "ExecuteTime": {
     "end_time": "2025-04-03T03:14:12.138326Z",
     "start_time": "2025-04-03T03:14:12.123476Z"
    }
   },
   "source": [
    "# merge training data\n",
    "x_train[\"Group\"] = y_train\n",
    "x_train"
   ],
   "outputs": [
    {
     "data": {
      "text/plain": [
       "     M/F  Age  EDUC  SES  MMSE  eTIV   nWBV    ASF  Group\n",
       "195    0   67    12  4.0  30.0  1440  0.727  1.219      0\n",
       "72     0   84    15  3.0  29.0  1497  0.686  1.172      1\n",
       "32     1   83    15  2.0  20.0  1476  0.750  1.189      1\n",
       "214    1   69    18  2.0  29.0  1536  0.719  1.143      0\n",
       "106    1   75    12  2.0  18.0  1479  0.657  1.187      1\n",
       "..   ...  ...   ...  ...   ...   ...    ...    ...    ...\n",
       "16     0   90    12  3.0  21.0  1307  0.679  1.342      1\n",
       "127    0   87    14  2.0  27.0  1987  0.696  0.883      0\n",
       "97     1   68    16  1.0  29.0  1344  0.733  1.305      1\n",
       "43     0   80    14  3.0  29.0  1324  0.695  1.326      1\n",
       "74     0   70    16  1.0  25.0  1568  0.696  1.119      1\n",
       "\n",
       "[203 rows x 9 columns]"
      ],
      "text/html": [
       "<div>\n",
       "<style scoped>\n",
       "    .dataframe tbody tr th:only-of-type {\n",
       "        vertical-align: middle;\n",
       "    }\n",
       "\n",
       "    .dataframe tbody tr th {\n",
       "        vertical-align: top;\n",
       "    }\n",
       "\n",
       "    .dataframe thead th {\n",
       "        text-align: right;\n",
       "    }\n",
       "</style>\n",
       "<table border=\"1\" class=\"dataframe\">\n",
       "  <thead>\n",
       "    <tr style=\"text-align: right;\">\n",
       "      <th></th>\n",
       "      <th>M/F</th>\n",
       "      <th>Age</th>\n",
       "      <th>EDUC</th>\n",
       "      <th>SES</th>\n",
       "      <th>MMSE</th>\n",
       "      <th>eTIV</th>\n",
       "      <th>nWBV</th>\n",
       "      <th>ASF</th>\n",
       "      <th>Group</th>\n",
       "    </tr>\n",
       "  </thead>\n",
       "  <tbody>\n",
       "    <tr>\n",
       "      <th>195</th>\n",
       "      <td>0</td>\n",
       "      <td>67</td>\n",
       "      <td>12</td>\n",
       "      <td>4.0</td>\n",
       "      <td>30.0</td>\n",
       "      <td>1440</td>\n",
       "      <td>0.727</td>\n",
       "      <td>1.219</td>\n",
       "      <td>0</td>\n",
       "    </tr>\n",
       "    <tr>\n",
       "      <th>72</th>\n",
       "      <td>0</td>\n",
       "      <td>84</td>\n",
       "      <td>15</td>\n",
       "      <td>3.0</td>\n",
       "      <td>29.0</td>\n",
       "      <td>1497</td>\n",
       "      <td>0.686</td>\n",
       "      <td>1.172</td>\n",
       "      <td>1</td>\n",
       "    </tr>\n",
       "    <tr>\n",
       "      <th>32</th>\n",
       "      <td>1</td>\n",
       "      <td>83</td>\n",
       "      <td>15</td>\n",
       "      <td>2.0</td>\n",
       "      <td>20.0</td>\n",
       "      <td>1476</td>\n",
       "      <td>0.750</td>\n",
       "      <td>1.189</td>\n",
       "      <td>1</td>\n",
       "    </tr>\n",
       "    <tr>\n",
       "      <th>214</th>\n",
       "      <td>1</td>\n",
       "      <td>69</td>\n",
       "      <td>18</td>\n",
       "      <td>2.0</td>\n",
       "      <td>29.0</td>\n",
       "      <td>1536</td>\n",
       "      <td>0.719</td>\n",
       "      <td>1.143</td>\n",
       "      <td>0</td>\n",
       "    </tr>\n",
       "    <tr>\n",
       "      <th>106</th>\n",
       "      <td>1</td>\n",
       "      <td>75</td>\n",
       "      <td>12</td>\n",
       "      <td>2.0</td>\n",
       "      <td>18.0</td>\n",
       "      <td>1479</td>\n",
       "      <td>0.657</td>\n",
       "      <td>1.187</td>\n",
       "      <td>1</td>\n",
       "    </tr>\n",
       "    <tr>\n",
       "      <th>...</th>\n",
       "      <td>...</td>\n",
       "      <td>...</td>\n",
       "      <td>...</td>\n",
       "      <td>...</td>\n",
       "      <td>...</td>\n",
       "      <td>...</td>\n",
       "      <td>...</td>\n",
       "      <td>...</td>\n",
       "      <td>...</td>\n",
       "    </tr>\n",
       "    <tr>\n",
       "      <th>16</th>\n",
       "      <td>0</td>\n",
       "      <td>90</td>\n",
       "      <td>12</td>\n",
       "      <td>3.0</td>\n",
       "      <td>21.0</td>\n",
       "      <td>1307</td>\n",
       "      <td>0.679</td>\n",
       "      <td>1.342</td>\n",
       "      <td>1</td>\n",
       "    </tr>\n",
       "    <tr>\n",
       "      <th>127</th>\n",
       "      <td>0</td>\n",
       "      <td>87</td>\n",
       "      <td>14</td>\n",
       "      <td>2.0</td>\n",
       "      <td>27.0</td>\n",
       "      <td>1987</td>\n",
       "      <td>0.696</td>\n",
       "      <td>0.883</td>\n",
       "      <td>0</td>\n",
       "    </tr>\n",
       "    <tr>\n",
       "      <th>97</th>\n",
       "      <td>1</td>\n",
       "      <td>68</td>\n",
       "      <td>16</td>\n",
       "      <td>1.0</td>\n",
       "      <td>29.0</td>\n",
       "      <td>1344</td>\n",
       "      <td>0.733</td>\n",
       "      <td>1.305</td>\n",
       "      <td>1</td>\n",
       "    </tr>\n",
       "    <tr>\n",
       "      <th>43</th>\n",
       "      <td>0</td>\n",
       "      <td>80</td>\n",
       "      <td>14</td>\n",
       "      <td>3.0</td>\n",
       "      <td>29.0</td>\n",
       "      <td>1324</td>\n",
       "      <td>0.695</td>\n",
       "      <td>1.326</td>\n",
       "      <td>1</td>\n",
       "    </tr>\n",
       "    <tr>\n",
       "      <th>74</th>\n",
       "      <td>0</td>\n",
       "      <td>70</td>\n",
       "      <td>16</td>\n",
       "      <td>1.0</td>\n",
       "      <td>25.0</td>\n",
       "      <td>1568</td>\n",
       "      <td>0.696</td>\n",
       "      <td>1.119</td>\n",
       "      <td>1</td>\n",
       "    </tr>\n",
       "  </tbody>\n",
       "</table>\n",
       "<p>203 rows × 9 columns</p>\n",
       "</div>"
      ]
     },
     "execution_count": 23,
     "metadata": {},
     "output_type": "execute_result"
    }
   ],
   "execution_count": 23
  },
  {
   "cell_type": "code",
   "metadata": {
    "ExecuteTime": {
     "end_time": "2025-04-03T03:14:19.183305Z",
     "start_time": "2025-04-03T03:14:12.219218Z"
    }
   },
   "source": [
    "# Creates the Model\n",
    "tree = Tree(x_train)"
   ],
   "outputs": [
    {
     "name": "stdout",
     "output_type": "stream",
     "text": [
      "THAT RIGHT THERE WAS TOO MUCH, GET IT GONNEN\n",
      "THAT RIGHT THERE WAS TOO MUCH, GET IT GONNEN\n"
     ]
    }
   ],
   "execution_count": 24
  },
  {
   "cell_type": "code",
   "metadata": {
    "ExecuteTime": {
     "end_time": "2025-04-03T03:14:19.222681Z",
     "start_time": "2025-04-03T03:14:19.214700Z"
    }
   },
   "source": [
    "# Visualization (if it leads to None, then we can predict from there)\n",
    "tree.tree_ToString()"
   ],
   "outputs": [
    {
     "name": "stdout",
     "output_type": "stream",
     "text": [
      "Question # 0 :  MMSE  is  29.0  ----> Question # 1 or Question # 18\n",
      "Question # 1 :  Age  is  69  ----> Question # 2 or Question # 13\n",
      "Question # 2 :  nWBV  is  0.696  ----> Question # 3 or Question # 11\n",
      "Question # 3 :  eTIV  is  1353  ----> Question # 4 or Question # 10\n",
      "Question # 4 :  eTIV  is  1891  ----> Question # 5 or Question # 6\n",
      "Question # 5 :  Age  is  75  ----> Question # None or Question # None\n",
      "Question # 6 :  M/F  is  1  ----> Question # None or Question # 7\n",
      "Question # 7 :  eTIV  is  1660  ----> Question # None or Question # 8\n",
      "Question # 8 :  Age  is  85  ----> Question # None or Question # 9\n",
      "Question # 9 :  eTIV  is  1651  ----> Question # None or Question # None\n",
      "Question # 10 :  Age  is  75  ----> Question # None or Question # None\n",
      "Question # 11 :  EDUC  is  16  ----> Question # None or Question # 12\n",
      "Question # 12 :  EDUC  is  12  ----> Question # None or Question # None\n",
      "Question # 13 :  nWBV  is  0.771  ----> Question # 14 or Question # 15\n",
      "Question # 14 :  M/F  is  1  ----> Question # None or Question # None\n",
      "Question # 15 :  SES  is  4.0  ----> Question # None or Question # 16\n",
      "Question # 16 :  EDUC  is  18  ----> Question # 17 or Question # None\n",
      "Question # 17 :  Age  is  66  ----> Question # None or Question # None\n",
      "Question # 18 :  MMSE  is  27.0  ----> Question # 19 or Question # None\n",
      "Question # 19 :  Age  is  87  ----> Question # None or Question # 20\n",
      "Question # 20 :  eTIV  is  1813  ----> Question # None or Question # 21\n",
      "Question # 21 :  Age  is  67  ----> Question # 22 or Question # None\n",
      "Question # 22 :  SES  is  5.0  ----> Question # None or Question # 23\n",
      "Question # 23 :  nWBV  is  0.684  ----> Question # 24 or Question # None\n",
      "Question # 24 :  eTIV  is  1414  ----> Question # 25 or Question # None\n",
      "Question # 25 :  M/F  is  1  ----> Question # 26 or Question # 27\n",
      "Question # 26 :  EDUC  is  14  ----> Question # None or Question # None\n",
      "Question # 27 :  SES  is  4.0  ----> Question # 28 or Question # None\n",
      "Question # 28 :  nWBV  is  0.729  ----> Question # None or Question # None\n"
     ]
    }
   ],
   "execution_count": 25
  },
  {
   "cell_type": "code",
   "metadata": {
    "ExecuteTime": {
     "end_time": "2025-04-03T03:14:19.307372Z",
     "start_time": "2025-04-03T03:14:19.302596Z"
    }
   },
   "source": [
    "# Prepares testing data to be assessed by the bot\n",
    "x_test.reset_index(inplace=True, drop=True)\n",
    "y_test.reset_index(inplace=True, drop=True)"
   ],
   "outputs": [],
   "execution_count": 26
  },
  {
   "cell_type": "code",
   "metadata": {
    "ExecuteTime": {
     "end_time": "2025-04-03T03:14:19.503934Z",
     "start_time": "2025-04-03T03:14:19.361168Z"
    }
   },
   "source": [
    "# Tests the bot\n",
    "accuracy = 0\n",
    "for qNumber in range(x_test.shape[0]):\n",
    "    row = x_test[x_test.index == qNumber]\n",
    "    row.reset_index(inplace=True, drop=True)\n",
    "    print(row)\n",
    "    prediction = None\n",
    "    tree.predict(row)\n",
    "    print(prediction)\n",
    "    if prediction == y_test[qNumber]:\n",
    "        accuracy += 1\n"
   ],
   "outputs": [
    {
     "name": "stdout",
     "output_type": "stream",
     "text": [
      "   M/F  Age  EDUC  SES  MMSE  eTIV   nWBV    ASF\n",
      "0    1   76    18  2.0  30.0  1379  0.757  1.273\n",
      "0\n",
      "   M/F  Age  EDUC  SES  MMSE  eTIV   nWBV    ASF\n",
      "0    0   75    12  4.0  28.0  1511  0.739  1.162\n",
      "1\n",
      "   M/F  Age  EDUC  SES  MMSE  eTIV   nWBV   ASF\n",
      "0    1   73    12  4.0  26.0  1451  0.757  1.21\n",
      "1\n",
      "   M/F  Age  EDUC  SES  MMSE  eTIV   nWBV    ASF\n",
      "0    0   81    12  3.0  27.0  1814  0.759  0.968\n",
      "0\n",
      "   M/F  Age  EDUC  SES  MMSE  eTIV  nWBV    ASF\n",
      "0    1   88    18  3.0  28.0  1215  0.71  1.444\n",
      "0\n",
      "   M/F  Age  EDUC  SES  MMSE  eTIV   nWBV  ASF\n",
      "0    1   78     8  5.0  23.0  1462  0.691  1.2\n",
      "1\n",
      "   M/F  Age  EDUC  SES  MMSE  eTIV   nWBV    ASF\n",
      "0    1   72    12  4.0  26.0  1453  0.777  1.208\n",
      "1\n",
      "   M/F  Age  EDUC  SES  MMSE  eTIV   nWBV   ASF\n",
      "0    1   70    13  4.0  30.0  1361  0.783  1.29\n",
      "0\n",
      "   M/F  Age  EDUC  SES  MMSE  eTIV   nWBV    ASF\n",
      "0    1   78    16  2.0  29.0  1333  0.748  1.316\n",
      "0\n",
      "   M/F  Age  EDUC  SES  MMSE  eTIV   nWBV    ASF\n",
      "0    0   78    14  3.0  30.0  1315  0.707  1.335\n",
      "0\n",
      "   M/F  Age  EDUC  SES  MMSE  eTIV   nWBV    ASF\n",
      "0    0   78    18  2.0  30.0  1484  0.703  1.183\n",
      "0\n",
      "   M/F  Age  EDUC  SES  MMSE  eTIV   nWBV    ASF\n",
      "0    1   75    14  3.0  28.0  1507  0.782  1.164\n",
      "0\n",
      "   M/F  Age  EDUC  SES  MMSE  eTIV   nWBV   ASF\n",
      "0    1   90    12  3.0  29.0  1475  0.676  1.19\n",
      "1\n",
      "   M/F  Age  EDUC  SES  MMSE  eTIV   nWBV    ASF\n",
      "0    1   65    15  2.0  28.0  1542  0.792  1.138\n",
      "0\n",
      "   M/F  Age  EDUC  SES  MMSE  eTIV  nWBV    ASF\n",
      "0    0   79    16  1.0  29.0  1899   0.7  0.924\n",
      "1\n",
      "   M/F  Age  EDUC  SES  MMSE  eTIV   nWBV    ASF\n",
      "0    0   66    16  1.0  19.0  1695  0.711  1.036\n",
      "1\n",
      "   M/F  Age  EDUC  SES  MMSE  eTIV   nWBV    ASF\n",
      "0    1   70    14  3.0  29.0  1524  0.787  1.151\n",
      "0\n",
      "   M/F  Age  EDUC  SES  MMSE  eTIV   nWBV    ASF\n",
      "0    1   73     8  5.0  25.0  1151  0.743  1.525\n",
      "1\n",
      "   M/F  Age  EDUC  SES  MMSE  eTIV   nWBV    ASF\n",
      "0    0   88    14  2.0  30.0  2004  0.681  0.876\n",
      "1\n",
      "   M/F  Age  EDUC  SES  MMSE  eTIV   nWBV    ASF\n",
      "0    0   92    16  1.0  30.0  1662  0.682  1.056\n",
      "0\n",
      "   M/F  Age  EDUC  SES  MMSE  eTIV   nWBV    ASF\n",
      "0    0   79    18  1.0  27.0  1569  0.781  1.118\n",
      "1\n",
      "   M/F  Age  EDUC  SES  MMSE  eTIV   nWBV    ASF\n",
      "0    0   81    20  1.0  26.0  1556  0.691  1.128\n",
      "1\n",
      "   M/F  Age  EDUC  SES  MMSE  eTIV   nWBV    ASF\n",
      "0    1   75    13  4.0  29.0  1349  0.778  1.301\n",
      "0\n",
      "   M/F  Age  EDUC  SES  MMSE  eTIV   nWBV  ASF\n",
      "0    0   70    16  3.0  29.0  1463  0.749  1.2\n",
      "0\n",
      "   M/F  Age  EDUC  SES  MMSE  eTIV  nWBV    ASF\n",
      "0    1   88    12  3.0  30.0  1428   0.7  1.229\n",
      "0\n",
      "   M/F  Age  EDUC  SES  MMSE  eTIV   nWBV    ASF\n",
      "0    0   89    16  1.0  28.0  1631  0.674  1.076\n",
      "0\n",
      "   M/F  Age  EDUC  SES  MMSE  eTIV   nWBV    ASF\n",
      "0    1   97    23  1.0  30.0  1483  0.689  1.184\n",
      "0\n",
      "   M/F  Age  EDUC  SES  MMSE  eTIV  nWBV    ASF\n",
      "0    1   82    11  4.0  30.0  1590  0.76  1.104\n",
      "0\n",
      "   M/F  Age  EDUC  SES  MMSE  eTIV   nWBV    ASF\n",
      "0    1   76    16  3.0  26.0  1391  0.705  1.262\n",
      "1\n",
      "   M/F  Age  EDUC  SES  MMSE  eTIV   nWBV    ASF\n",
      "0    0   71    12  4.0  20.0  1461  0.724  1.202\n",
      "1\n",
      "   M/F  Age  EDUC  SES  MMSE  eTIV   nWBV    ASF\n",
      "0    0   88    12  4.0  26.0  1483  0.709  1.184\n",
      "1\n",
      "   M/F  Age  EDUC  SES  MMSE  eTIV   nWBV    ASF\n",
      "0    1   81    15  2.0  28.0  1486  0.754  1.181\n",
      "0\n",
      "   M/F  Age  EDUC  SES  MMSE  eTIV   nWBV    ASF\n",
      "0    0   80    17  1.0  28.0  1660  0.728  1.057\n",
      "1\n",
      "   M/F  Age  EDUC  SES  MMSE  eTIV   nWBV    ASF\n",
      "0    0   69    12  2.0  24.0  1480  0.791  1.186\n",
      "1\n",
      "   M/F  Age  EDUC  SES  MMSE  eTIV   nWBV    ASF\n",
      "0    1   82    16  1.0  30.0  1460  0.695  1.202\n",
      "0\n",
      "   M/F  Age  EDUC  SES  MMSE  eTIV   nWBV    ASF\n",
      "0    0   71    16  1.0  17.0  1562  0.685  1.123\n",
      "1\n",
      "   M/F  Age  EDUC  SES  MMSE  eTIV   nWBV   ASF\n",
      "0    1   93    14  2.0  30.0  1272  0.698  1.38\n",
      "0\n",
      "   M/F  Age  EDUC  SES  MMSE  eTIV   nWBV   ASF\n",
      "0    1   84    16  3.0  28.0  1500  0.744  1.17\n",
      "0\n",
      "   M/F  Age  EDUC  SES  MMSE  eTIV  nWBV    ASF\n",
      "0    1   75    12  3.0  28.0  1407  0.77  1.247\n",
      "1\n",
      "   M/F  Age  EDUC  SES  MMSE  eTIV   nWBV    ASF\n",
      "0    1   73    13  4.0  30.0  1360  0.773  1.291\n",
      "0\n",
      "   M/F  Age  EDUC  SES  MMSE  eTIV  nWBV    ASF\n",
      "0    1   85    12  4.0  29.0  1225  0.71  1.433\n",
      "0\n",
      "   M/F  Age  EDUC  SES  MMSE  eTIV   nWBV    ASF\n",
      "0    1   83    16  2.0  29.0  1323  0.718  1.327\n",
      "0\n",
      "   M/F  Age  EDUC  SES  MMSE  eTIV   nWBV    ASF\n",
      "0    1   75     8  5.0  22.0  1143  0.741  1.535\n",
      "1\n",
      "   M/F  Age  EDUC  SES  MMSE  eTIV   nWBV    ASF\n",
      "0    0   66    16  1.0  21.0  1708  0.703  1.028\n",
      "1\n",
      "   M/F  Age  EDUC  SES  MMSE  eTIV   nWBV    ASF\n",
      "0    0   79    20  1.0  26.0  1548  0.711  1.134\n",
      "1\n",
      "   M/F  Age  EDUC  SES  MMSE  eTIV   nWBV    ASF\n",
      "0    0   65    13  3.0  29.0  1362  0.837  1.289\n",
      "1\n",
      "   M/F  Age  EDUC  SES  MMSE  eTIV   nWBV    ASF\n",
      "0    0   66    18  2.0  21.0  1562  0.717  1.124\n",
      "1\n",
      "   M/F  Age  EDUC  SES  MMSE  eTIV   nWBV    ASF\n",
      "0    0   67    13  3.0  27.0  1365  0.827  1.285\n",
      "1\n",
      "   M/F  Age  EDUC  SES  MMSE  eTIV   nWBV   ASF\n",
      "0    1   71    18  2.0  30.0  1371  0.769  1.28\n",
      "0\n",
      "   M/F  Age  EDUC  SES  MMSE  eTIV   nWBV    ASF\n",
      "0    0   75    13  4.0  29.0  1416  0.766  1.239\n",
      "0\n",
      "   M/F  Age  EDUC  SES  MMSE  eTIV   nWBV    ASF\n",
      "0    0   74    16  2.0  30.0  1611  0.729  1.089\n",
      "0\n"
     ]
    }
   ],
   "execution_count": 27
  },
  {
   "cell_type": "code",
   "metadata": {
    "ExecuteTime": {
     "end_time": "2025-04-03T03:14:19.521598Z",
     "start_time": "2025-04-03T03:14:19.516775Z"
    }
   },
   "source": [
    "# Bot Accuracy\n",
    "accuracy / x_test.shape[0]"
   ],
   "outputs": [
    {
     "data": {
      "text/plain": [
       "0.8235294117647058"
      ]
     },
     "execution_count": 28,
     "metadata": {},
     "output_type": "execute_result"
    }
   ],
   "execution_count": 28
  }
 ],
 "metadata": {
  "kernelspec": {
   "display_name": "base",
   "language": "python",
   "name": "python3"
  },
  "language_info": {
   "codemirror_mode": {
    "name": "ipython",
    "version": 3
   },
   "file_extension": ".py",
   "mimetype": "text/x-python",
   "name": "python",
   "nbconvert_exporter": "python",
   "pygments_lexer": "ipython3",
   "version": "3.12.7"
  }
 },
 "nbformat": 4,
 "nbformat_minor": 2
}
